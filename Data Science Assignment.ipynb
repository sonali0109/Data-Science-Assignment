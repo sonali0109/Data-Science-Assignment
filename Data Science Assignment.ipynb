{
 "cells": [
  {
   "cell_type": "markdown",
   "id": "abe96456",
   "metadata": {},
   "source": [
    "## Script 1"
   ]
  },
  {
   "cell_type": "code",
   "execution_count": 1,
   "id": "32c5e5ad",
   "metadata": {},
   "outputs": [
    {
     "name": "stdout",
     "output_type": "stream",
     "text": [
      "Enter first name: Sonali\n",
      "Enter last name: Badgujar\n",
      "Data saved to linkedin_data.csv\n"
     ]
    }
   ],
   "source": [
    "import requests\n",
    "import csv\n",
    "\n",
    "def search_linkedin_users_api(first_name, last_name):\n",
    "    # Construct the search query\n",
    "    query = f\"{first_name} {last_name}\"\n",
    "    api_url = f\"https://api.linkedin.com/v2/people-search?keywords={query}&count=10\"\n",
    "\n",
    "    # Make a request to the LinkedIn API (You'll need to handle authentication)\n",
    "    # headers = {\"Authorization\": \"Bearer YOUR_ACCESS_TOKEN\"}\n",
    "    # response = requests.get(api_url, headers=headers)\n",
    "    # Handle authentication, error checking, etc.\n",
    "\n",
    "    # For demonstration, assume we got some results\n",
    "    results = [{'Name': 'John Doe', 'Title': 'Software Engineer', 'Location': 'New York'},\n",
    "               {'Name': 'Jane Smith', 'Title': 'Data Scientist', 'Location': 'San Francisco'}]\n",
    "\n",
    "    return results\n",
    "\n",
    "def save_to_csv(data):\n",
    "    headers = ['Name', 'Title', 'Location']\n",
    "    with open('linkedin_data.csv', 'w', newline='') as file:\n",
    "        writer = csv.DictWriter(file, fieldnames=headers)\n",
    "        writer.writeheader()\n",
    "        for entry in data:\n",
    "            writer.writerow(entry)\n",
    "\n",
    "def main():\n",
    "    first_name = input(\"Enter first name: \")\n",
    "    last_name = input(\"Enter last name: \")\n",
    "\n",
    "    search_results = search_linkedin_users_api(first_name, last_name)\n",
    "    relevant_results = search_results[:5]  # Consider only the first 5 relevant results\n",
    "\n",
    "    save_to_csv(relevant_results)\n",
    "    print(\"Data saved to linkedin_data.csv\")\n",
    "\n",
    "if __name__ == \"__main__\":\n",
    "    main()\n"
   ]
  },
  {
   "cell_type": "markdown",
   "id": "dbae663c",
   "metadata": {},
   "source": [
    "## Script 2"
   ]
  },
  {
   "cell_type": "code",
   "execution_count": 2,
   "id": "c33a86cb",
   "metadata": {},
   "outputs": [
    {
     "name": "stdout",
     "output_type": "stream",
     "text": [
      "Error: 'WebDriver' object has no attribute 'find_element_by_id'\n"
     ]
    }
   ],
   "source": [
    "from selenium import webdriver\n",
    "from selenium.webdriver.common.keys import Keys\n",
    "import csv\n",
    "\n",
    "def get_user_data_browser(first_name, last_name):\n",
    "    driver = webdriver.Chrome()  # You need to have chromedriver installed and in your PATH\n",
    "    driver.get(\"https://www.linkedin.com\")\n",
    "\n",
    "    try:\n",
    "        # Assuming LinkedIn login is required\n",
    "        # Please fill in your login credentials\n",
    "        username = \"your_username\"\n",
    "        password = \"your_password\"\n",
    "        driver.find_element_by_id(\"session_key\").send_keys(username)\n",
    "        driver.find_element_by_id(\"session_password\").send_keys(password)\n",
    "        driver.find_element_by_class_name(\"sign-in-form__submit-button\").click()\n",
    "\n",
    "        search_box = driver.find_element_by_xpath(\"//input[@placeholder='Search']\")\n",
    "        search_box.send_keys(first_name + \" \" + last_name)\n",
    "        search_box.send_keys(Keys.RETURN)\n",
    "\n",
    "        # Wait for search results to load\n",
    "        driver.implicitly_wait(10)\n",
    "\n",
    "        # Collecting data of first 5 relevant users\n",
    "        users = driver.find_elements_by_xpath(\"//li[contains(@class, 'search-result__occluded-item')]\")\n",
    "        relevant_users = users[:5]\n",
    "\n",
    "        with open('linkedin_users_browser.csv', 'w', newline='') as file:\n",
    "            writer = csv.DictWriter(file, fieldnames=['Name', 'Title', 'Location'])\n",
    "            writer.writeheader()\n",
    "            for user in relevant_users:\n",
    "                name = user.find_element_by_xpath(\".//span[@class='name actor-name']\").text\n",
    "                title = user.find_element_by_xpath(\".//p[@class='subline-level-1 t-14 t-black t-normal search-result__truncate']\").text\n",
    "                location = user.find_element_by_xpath(\".//p[@class='subline-level-2 t-12 t-black--light t-normal search-result__truncate']\").text\n",
    "                writer.writerow({'Name': name, 'Title': title, 'Location': location})\n",
    "\n",
    "        print(\"Data saved successfully to linkedin_users_browser.csv\")\n",
    "\n",
    "    except Exception as e:\n",
    "        print(f\"Error: {e}\")\n",
    "    finally:\n",
    "        driver.quit()\n",
    "\n",
    "# Example usage\n",
    "get_user_data_browser(\"John\", \"Doe\")\n"
   ]
  }
 ],
 "metadata": {
  "kernelspec": {
   "display_name": "Python 3 (ipykernel)",
   "language": "python",
   "name": "python3"
  },
  "language_info": {
   "codemirror_mode": {
    "name": "ipython",
    "version": 3
   },
   "file_extension": ".py",
   "mimetype": "text/x-python",
   "name": "python",
   "nbconvert_exporter": "python",
   "pygments_lexer": "ipython3",
   "version": "3.11.4"
  }
 },
 "nbformat": 4,
 "nbformat_minor": 5
}
